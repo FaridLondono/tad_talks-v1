{
 "cells": [
  {
   "cell_type": "markdown",
   "metadata": {},
   "source": [
    "# Getting to know our data"
   ]
  },
  {
   "cell_type": "code",
   "execution_count": 1,
   "metadata": {},
   "outputs": [
    {
     "data": {
      "text/html": [
       "<div>\n",
       "<style scoped>\n",
       "    .dataframe tbody tr th:only-of-type {\n",
       "        vertical-align: middle;\n",
       "    }\n",
       "\n",
       "    .dataframe tbody tr th {\n",
       "        vertical-align: top;\n",
       "    }\n",
       "\n",
       "    .dataframe thead th {\n",
       "        text-align: right;\n",
       "    }\n",
       "</style>\n",
       "<table border=\"1\" class=\"dataframe\">\n",
       "  <thead>\n",
       "    <tr style=\"text-align: right;\">\n",
       "      <th></th>\n",
       "      <th>talk_id</th>\n",
       "      <th>title</th>\n",
       "      <th>speaker_1</th>\n",
       "      <th>all_speakers</th>\n",
       "      <th>occupations</th>\n",
       "      <th>about_speakers</th>\n",
       "      <th>views</th>\n",
       "      <th>recorded_date</th>\n",
       "      <th>published_date</th>\n",
       "      <th>event</th>\n",
       "      <th>native_lang</th>\n",
       "      <th>available_lang</th>\n",
       "      <th>comments</th>\n",
       "      <th>duration</th>\n",
       "      <th>topics</th>\n",
       "      <th>related_talks</th>\n",
       "      <th>url</th>\n",
       "      <th>description</th>\n",
       "      <th>transcript</th>\n",
       "    </tr>\n",
       "  </thead>\n",
       "  <tbody>\n",
       "    <tr>\n",
       "      <th>0</th>\n",
       "      <td>1</td>\n",
       "      <td>Averting the climate crisis</td>\n",
       "      <td>Al Gore</td>\n",
       "      <td>{0: 'Al Gore'}</td>\n",
       "      <td>{0: ['climate advocate']}</td>\n",
       "      <td>{0: 'Nobel Laureate Al Gore focused the world’...</td>\n",
       "      <td>3523392</td>\n",
       "      <td>2006-02-25</td>\n",
       "      <td>2006-06-27</td>\n",
       "      <td>TED2006</td>\n",
       "      <td>en</td>\n",
       "      <td>['ar', 'bg', 'cs', 'de', 'el', 'en', 'es', 'fa...</td>\n",
       "      <td>272.0</td>\n",
       "      <td>977</td>\n",
       "      <td>['alternative energy', 'cars', 'climate change...</td>\n",
       "      <td>{243: 'New thinking on the climate crisis', 54...</td>\n",
       "      <td>https://www.ted.com/talks/al_gore_averting_the...</td>\n",
       "      <td>With the same humor and humanity he exuded in ...</td>\n",
       "      <td>Thank you so much, Chris. And it's truly a gre...</td>\n",
       "    </tr>\n",
       "    <tr>\n",
       "      <th>1</th>\n",
       "      <td>92</td>\n",
       "      <td>The best stats you've ever seen</td>\n",
       "      <td>Hans Rosling</td>\n",
       "      <td>{0: 'Hans Rosling'}</td>\n",
       "      <td>{0: ['global health expert; data visionary']}</td>\n",
       "      <td>{0: 'In Hans Rosling’s hands, data sings. Glob...</td>\n",
       "      <td>14501685</td>\n",
       "      <td>2006-02-22</td>\n",
       "      <td>2006-06-27</td>\n",
       "      <td>TED2006</td>\n",
       "      <td>en</td>\n",
       "      <td>['ar', 'az', 'bg', 'bn', 'bs', 'cs', 'da', 'de...</td>\n",
       "      <td>628.0</td>\n",
       "      <td>1190</td>\n",
       "      <td>['Africa', 'Asia', 'Google', 'demo', 'economic...</td>\n",
       "      <td>{2056: \"Own your body's data\", 2296: 'A visual...</td>\n",
       "      <td>https://www.ted.com/talks/hans_rosling_the_bes...</td>\n",
       "      <td>You've never seen data presented like this. Wi...</td>\n",
       "      <td>About 10 years ago, I took on the task to teac...</td>\n",
       "    </tr>\n",
       "  </tbody>\n",
       "</table>\n",
       "</div>"
      ],
      "text/plain": [
       "   talk_id                            title     speaker_1  \\\n",
       "0        1      Averting the climate crisis       Al Gore   \n",
       "1       92  The best stats you've ever seen  Hans Rosling   \n",
       "\n",
       "          all_speakers                                    occupations  \\\n",
       "0       {0: 'Al Gore'}                      {0: ['climate advocate']}   \n",
       "1  {0: 'Hans Rosling'}  {0: ['global health expert; data visionary']}   \n",
       "\n",
       "                                      about_speakers     views recorded_date  \\\n",
       "0  {0: 'Nobel Laureate Al Gore focused the world’...   3523392    2006-02-25   \n",
       "1  {0: 'In Hans Rosling’s hands, data sings. Glob...  14501685    2006-02-22   \n",
       "\n",
       "  published_date    event native_lang  \\\n",
       "0     2006-06-27  TED2006          en   \n",
       "1     2006-06-27  TED2006          en   \n",
       "\n",
       "                                      available_lang  comments  duration  \\\n",
       "0  ['ar', 'bg', 'cs', 'de', 'el', 'en', 'es', 'fa...     272.0       977   \n",
       "1  ['ar', 'az', 'bg', 'bn', 'bs', 'cs', 'da', 'de...     628.0      1190   \n",
       "\n",
       "                                              topics  \\\n",
       "0  ['alternative energy', 'cars', 'climate change...   \n",
       "1  ['Africa', 'Asia', 'Google', 'demo', 'economic...   \n",
       "\n",
       "                                       related_talks  \\\n",
       "0  {243: 'New thinking on the climate crisis', 54...   \n",
       "1  {2056: \"Own your body's data\", 2296: 'A visual...   \n",
       "\n",
       "                                                 url  \\\n",
       "0  https://www.ted.com/talks/al_gore_averting_the...   \n",
       "1  https://www.ted.com/talks/hans_rosling_the_bes...   \n",
       "\n",
       "                                         description  \\\n",
       "0  With the same humor and humanity he exuded in ...   \n",
       "1  You've never seen data presented like this. Wi...   \n",
       "\n",
       "                                          transcript  \n",
       "0  Thank you so much, Chris. And it's truly a gre...  \n",
       "1  About 10 years ago, I took on the task to teac...  "
      ]
     },
     "execution_count": 1,
     "metadata": {},
     "output_type": "execute_result"
    }
   ],
   "source": [
    "#importing the libs that we'll be needing.\n",
    "import pandas as pd\n",
    "import seaborn as sns\n",
    "import numpy as np\n",
    "import matplotlib.pyplot as plt\n",
    "\n",
    "from datetime import datetime\n",
    "\n",
    "\n",
    "#data set that contains over 4000 TED talks, obtained in Kaggle (kaggle.com/miguelcorraljr/ted-ultimate-dataset?)\n",
    "df = pd.read_csv('ted_talks_en.csv')\n",
    "\n",
    "df.head(2)"
   ]
  },
  {
   "cell_type": "code",
   "execution_count": 2,
   "metadata": {},
   "outputs": [
    {
     "name": "stdout",
     "output_type": "stream",
     "text": [
      "<class 'pandas.core.frame.DataFrame'>\n",
      "RangeIndex: 4005 entries, 0 to 4004\n",
      "Data columns (total 19 columns):\n",
      " #   Column          Non-Null Count  Dtype  \n",
      "---  ------          --------------  -----  \n",
      " 0   talk_id         4005 non-null   int64  \n",
      " 1   title           4005 non-null   object \n",
      " 2   speaker_1       4005 non-null   object \n",
      " 3   all_speakers    4001 non-null   object \n",
      " 4   occupations     3483 non-null   object \n",
      " 5   about_speakers  3502 non-null   object \n",
      " 6   views           4005 non-null   int64  \n",
      " 7   recorded_date   4004 non-null   object \n",
      " 8   published_date  4005 non-null   object \n",
      " 9   event           4005 non-null   object \n",
      " 10  native_lang     4005 non-null   object \n",
      " 11  available_lang  4005 non-null   object \n",
      " 12  comments        3350 non-null   float64\n",
      " 13  duration        4005 non-null   int64  \n",
      " 14  topics          4005 non-null   object \n",
      " 15  related_talks   4005 non-null   object \n",
      " 16  url             4005 non-null   object \n",
      " 17  description     4005 non-null   object \n",
      " 18  transcript      4005 non-null   object \n",
      "dtypes: float64(1), int64(3), object(15)\n",
      "memory usage: 594.6+ KB\n"
     ]
    }
   ],
   "source": [
    "#getting to know our data (types and not null values)\n",
    "df.info()"
   ]
  },
  {
   "cell_type": "code",
   "execution_count": 3,
   "metadata": {},
   "outputs": [
    {
     "data": {
      "text/plain": [
       "talk_id             0\n",
       "title               0\n",
       "speaker_1           0\n",
       "all_speakers        4\n",
       "occupations       522\n",
       "about_speakers    503\n",
       "views               0\n",
       "recorded_date       1\n",
       "published_date      0\n",
       "event               0\n",
       "native_lang         0\n",
       "available_lang      0\n",
       "comments          655\n",
       "duration            0\n",
       "topics              0\n",
       "related_talks       0\n",
       "url                 0\n",
       "description         0\n",
       "transcript          0\n",
       "dtype: int64"
      ]
     },
     "execution_count": 3,
     "metadata": {},
     "output_type": "execute_result"
    }
   ],
   "source": [
    "#checking the amount of null values\n",
    "df.isna().sum()"
   ]
  },
  {
   "cell_type": "code",
   "execution_count": 4,
   "metadata": {},
   "outputs": [
    {
     "data": {
      "text/plain": [
       "<matplotlib.axes._subplots.AxesSubplot at 0x18e4651aa88>"
      ]
     },
     "execution_count": 4,
     "metadata": {},
     "output_type": "execute_result"
    },
    {
     "data": {
      "image/png": "[encoded data removed]",
      "text/plain": [
       "<Figure size 432x288 with 1 Axes>"
      ]
     },
     "metadata": {
      "needs_background": "light"
     },
     "output_type": "display_data"
    }
   ],
   "source": [
    "#plotting the unique values of each column\n",
    "df.nunique().plot(kind='bar')"
   ]
  },
  {
   "cell_type": "code",
   "execution_count": 5,
   "metadata": {},
   "outputs": [],
   "source": [
    "#before we do anything else, let's apply the 2 decimals float format for better reading of our data\n",
    "pd.options.display.float_format = \"{:,.2f}\".format"
   ]
  },
  {
   "cell_type": "markdown",
   "metadata": {},
   "source": [
    "## Data transformation"
   ]
  },
  {
   "cell_type": "code",
   "execution_count": 6,
   "metadata": {},
   "outputs": [],
   "source": [
    "#transforming our date columns to datetime formats\n",
    "df['recorded_date'] = pd.to_datetime(df['recorded_date'])\n",
    "df['published_date'] = pd.to_datetime(df['published_date'])"
   ]
  },
  {
   "cell_type": "code",
   "execution_count": 7,
   "metadata": {},
   "outputs": [],
   "source": [
    "df['year'] = pd.DatetimeIndex(df['published_date']).year\n",
    "df['month'] = pd.DatetimeIndex(df['published_date']).month\n",
    "df['year_month'] = pd.to_datetime(df['published_date']).dt.to_period('M')\n",
    "df['day_of_week'] = pd.DatetimeIndex(df['published_date']).dayofweek #monday is 0, tuesday is 1..."
   ]
  },
  {
   "cell_type": "code",
   "execution_count": 8,
   "metadata": {},
   "outputs": [],
   "source": [
    "#to know which ted talks encourage more comments, we could create a views per comment column\n",
    "df['views_per_comment'] = np.where(df['comments'].isnull(), None, df['views'] / df['comments'])"
   ]
  },
  {
   "cell_type": "code",
   "execution_count": 9,
   "metadata": {},
   "outputs": [],
   "source": [
    "df['views_per_comment'] = df['views_per_comment'].astype(float)"
   ]
  },
  {
   "cell_type": "markdown",
   "metadata": {},
   "source": [
    "## Exploratory analysis"
   ]
  },
  {
   "cell_type": "code",
   "execution_count": 10,
   "metadata": {},
   "outputs": [
    {
     "data": {
      "text/html": [
       "<div>\n",
       "<style scoped>\n",
       "    .dataframe tbody tr th:only-of-type {\n",
       "        vertical-align: middle;\n",
       "    }\n",
       "\n",
       "    .dataframe tbody tr th {\n",
       "        vertical-align: top;\n",
       "    }\n",
       "\n",
       "    .dataframe thead th {\n",
       "        text-align: right;\n",
       "    }\n",
       "</style>\n",
       "<table border=\"1\" class=\"dataframe\">\n",
       "  <thead>\n",
       "    <tr style=\"text-align: right;\">\n",
       "      <th></th>\n",
       "      <th>talk_id</th>\n",
       "      <th>views</th>\n",
       "      <th>comments</th>\n",
       "      <th>duration</th>\n",
       "      <th>year</th>\n",
       "      <th>month</th>\n",
       "      <th>day_of_week</th>\n",
       "      <th>views_per_comment</th>\n",
       "    </tr>\n",
       "  </thead>\n",
       "  <tbody>\n",
       "    <tr>\n",
       "      <th>count</th>\n",
       "      <td>4,005.00</td>\n",
       "      <td>4,005.00</td>\n",
       "      <td>3,350.00</td>\n",
       "      <td>4,005.00</td>\n",
       "      <td>4,005.00</td>\n",
       "      <td>4,005.00</td>\n",
       "      <td>4,005.00</td>\n",
       "      <td>3,350.00</td>\n",
       "    </tr>\n",
       "    <tr>\n",
       "      <th>mean</th>\n",
       "      <td>12,432.54</td>\n",
       "      <td>2,148,005.57</td>\n",
       "      <td>162.00</td>\n",
       "      <td>724.01</td>\n",
       "      <td>2,014.60</td>\n",
       "      <td>6.13</td>\n",
       "      <td>2.11</td>\n",
       "      <td>inf</td>\n",
       "    </tr>\n",
       "    <tr>\n",
       "      <th>std</th>\n",
       "      <td>17,447.58</td>\n",
       "      <td>3,451,225.52</td>\n",
       "      <td>268.84</td>\n",
       "      <td>361.78</td>\n",
       "      <td>3.99</td>\n",
       "      <td>3.47</td>\n",
       "      <td>1.50</td>\n",
       "      <td>nan</td>\n",
       "    </tr>\n",
       "    <tr>\n",
       "      <th>min</th>\n",
       "      <td>1.00</td>\n",
       "      <td>0.00</td>\n",
       "      <td>0.00</td>\n",
       "      <td>60.00</td>\n",
       "      <td>2,006.00</td>\n",
       "      <td>1.00</td>\n",
       "      <td>0.00</td>\n",
       "      <td>727.09</td>\n",
       "    </tr>\n",
       "    <tr>\n",
       "      <th>25%</th>\n",
       "      <td>1,252.00</td>\n",
       "      <td>882,069.00</td>\n",
       "      <td>38.00</td>\n",
       "      <td>393.00</td>\n",
       "      <td>2,011.00</td>\n",
       "      <td>3.00</td>\n",
       "      <td>1.00</td>\n",
       "      <td>8,070.31</td>\n",
       "    </tr>\n",
       "    <tr>\n",
       "      <th>50%</th>\n",
       "      <td>2,333.00</td>\n",
       "      <td>1,375,508.00</td>\n",
       "      <td>89.00</td>\n",
       "      <td>738.00</td>\n",
       "      <td>2,015.00</td>\n",
       "      <td>6.00</td>\n",
       "      <td>2.00</td>\n",
       "      <td>16,000.14</td>\n",
       "    </tr>\n",
       "    <tr>\n",
       "      <th>75%</th>\n",
       "      <td>23,777.00</td>\n",
       "      <td>2,133,110.00</td>\n",
       "      <td>188.00</td>\n",
       "      <td>974.00</td>\n",
       "      <td>2,018.00</td>\n",
       "      <td>9.00</td>\n",
       "      <td>3.00</td>\n",
       "      <td>38,260.97</td>\n",
       "    </tr>\n",
       "    <tr>\n",
       "      <th>max</th>\n",
       "      <td>62,794.00</td>\n",
       "      <td>65,051,954.00</td>\n",
       "      <td>6,449.00</td>\n",
       "      <td>3,922.00</td>\n",
       "      <td>2,020.00</td>\n",
       "      <td>12.00</td>\n",
       "      <td>6.00</td>\n",
       "      <td>inf</td>\n",
       "    </tr>\n",
       "  </tbody>\n",
       "</table>\n",
       "</div>"
      ],
      "text/plain": [
       "        talk_id         views  comments  duration     year    month  \\\n",
       "count  4,005.00      4,005.00  3,350.00  4,005.00 4,005.00 4,005.00   \n",
       "mean  12,432.54  2,148,005.57    162.00    724.01 2,014.60     6.13   \n",
       "std   17,447.58  3,451,225.52    268.84    361.78     3.99     3.47   \n",
       "min        1.00          0.00      0.00     60.00 2,006.00     1.00   \n",
       "25%    1,252.00    882,069.00     38.00    393.00 2,011.00     3.00   \n",
       "50%    2,333.00  1,375,508.00     89.00    738.00 2,015.00     6.00   \n",
       "75%   23,777.00  2,133,110.00    188.00    974.00 2,018.00     9.00   \n",
       "max   62,794.00 65,051,954.00  6,449.00  3,922.00 2,020.00    12.00   \n",
       "\n",
       "       day_of_week  views_per_comment  \n",
       "count     4,005.00           3,350.00  \n",
       "mean          2.11                inf  \n",
       "std           1.50                nan  \n",
       "min           0.00             727.09  \n",
       "25%           1.00           8,070.31  \n",
       "50%           2.00          16,000.14  \n",
       "75%           3.00          38,260.97  \n",
       "max           6.00                inf  "
      ]
     },
     "execution_count": 10,
     "metadata": {},
     "output_type": "execute_result"
    }
   ],
   "source": [
    "#checking some relevant statistical data of our df\n",
    "df.describe()"
   ]
  },
  {
   "cell_type": "code",
   "execution_count": 11,
   "metadata": {},
   "outputs": [
    {
     "data": {
      "text/plain": [
       "<matplotlib.axes._subplots.AxesSubplot at 0x18e489c1808>"
      ]
     },
     "execution_count": 11,
     "metadata": {},
     "output_type": "execute_result"
    },
    {
     "data": {
      "image/png": "[encoded data removed]",
      "text/plain": [
       "<Figure size 432x288 with 2 Axes>"
      ]
     },
     "metadata": {
      "needs_background": "light"
     },
     "output_type": "display_data"
    }
   ],
   "source": [
    "#do longer talks receive more views and/or comments?\n",
    "corr = df[['views','comments','duration']].corr()\n",
    "mask = np.triu(np.ones_like(corr, dtype=np.bool))\n",
    "\n",
    "sns.heatmap(corr, annot=True, mask=mask)"
   ]
  },
  {
   "cell_type": "code",
   "execution_count": 12,
   "metadata": {},
   "outputs": [
    {
     "data": {
      "text/plain": [
       "Alex Gendler        34\n",
       "Iseult Gillespie    19\n",
       "Emma Bryce          12\n",
       "Daniel Finkel       11\n",
       "Alex Rosenthal      10\n",
       "Hans Rosling        10\n",
       "Juan Enriquez        9\n",
       "Greg Gage            9\n",
       "Chris Anderson       8\n",
       "Dan Ariely           7\n",
       "Marco Tempest        7\n",
       "Joy Lin              6\n",
       "Elizabeth Cox        6\n",
       "Stewart Brand        6\n",
       " Rives               6\n",
       "Name: speaker_1, dtype: int64"
      ]
     },
     "execution_count": 12,
     "metadata": {},
     "output_type": "execute_result"
    }
   ],
   "source": [
    "#do we have speakers that have appeared more than once?\n",
    "df['speaker_1'].value_counts().head(15)"
   ]
  },
  {
   "cell_type": "code",
   "execution_count": 13,
   "metadata": {},
   "outputs": [
    {
     "data": {
      "text/plain": [
       "{0: ['writer']}            53\n",
       "{0: ['journalist']}        47\n",
       "{0: ['entrepreneur']}      42\n",
       "{0: ['artist']}            41\n",
       "{0: ['architect']}         38\n",
       "{0: ['designer']}          37\n",
       "{0: ['neuroscientist']}    32\n",
       "{0: ['psychologist']}      31\n",
       "{0: ['educator']}          29\n",
       "{0: ['inventor']}          28\n",
       "Name: occupations, dtype: int64"
      ]
     },
     "execution_count": 13,
     "metadata": {},
     "output_type": "execute_result"
    }
   ],
   "source": [
    "#what about speaker occupations?\n",
    "df['occupations'].value_counts().head(10)"
   ]
  },
  {
   "cell_type": "code",
   "execution_count": 14,
   "metadata": {},
   "outputs": [
    {
     "data": {
      "text/plain": [
       "en       3957\n",
       "es         27\n",
       "fr          9\n",
       "ja          3\n",
       "hi          2\n",
       "it          1\n",
       "ar          1\n",
       "zh-cn       1\n",
       "ko          1\n",
       "de          1\n",
       "pt-br       1\n",
       "pt          1\n",
       "Name: native_lang, dtype: int64"
      ]
     },
     "execution_count": 14,
     "metadata": {},
     "output_type": "execute_result"
    }
   ],
   "source": [
    "#is english the most common native language of the talks?\n",
    "df['native_lang'].value_counts()"
   ]
  },
  {
   "cell_type": "code",
   "execution_count": 15,
   "metadata": {},
   "outputs": [
    {
     "data": {
      "text/plain": [
       "<matplotlib.axes._subplots.AxesSubplot at 0x18e48aa5c88>"
      ]
     },
     "execution_count": 15,
     "metadata": {},
     "output_type": "execute_result"
    },
    {
     "data": {
      "image/png": "[encoded data removed]",
      "text/plain": [
       "<Figure size 432x288 with 1 Axes>"
      ]
     },
     "metadata": {
      "needs_background": "light"
     },
     "output_type": "display_data"
    }
   ],
   "source": [
    "#understanding talks duration distribution\n",
    "df['duration'].plot(kind='hist',bins=20)"
   ]
  },
  {
   "cell_type": "code",
   "execution_count": 16,
   "metadata": {},
   "outputs": [
    {
     "data": {
      "text/html": [
       "<div>\n",
       "<style scoped>\n",
       "    .dataframe tbody tr th:only-of-type {\n",
       "        vertical-align: middle;\n",
       "    }\n",
       "\n",
       "    .dataframe tbody tr th {\n",
       "        vertical-align: top;\n",
       "    }\n",
       "\n",
       "    .dataframe thead th {\n",
       "        text-align: right;\n",
       "    }\n",
       "</style>\n",
       "<table border=\"1\" class=\"dataframe\">\n",
       "  <thead>\n",
       "    <tr style=\"text-align: right;\">\n",
       "      <th></th>\n",
       "      <th>talk_id</th>\n",
       "    </tr>\n",
       "    <tr>\n",
       "      <th>year</th>\n",
       "      <th></th>\n",
       "    </tr>\n",
       "  </thead>\n",
       "  <tbody>\n",
       "    <tr>\n",
       "      <th>2006</th>\n",
       "      <td>49</td>\n",
       "    </tr>\n",
       "    <tr>\n",
       "      <th>2007</th>\n",
       "      <td>119</td>\n",
       "    </tr>\n",
       "    <tr>\n",
       "      <th>2008</th>\n",
       "      <td>185</td>\n",
       "    </tr>\n",
       "    <tr>\n",
       "      <th>2009</th>\n",
       "      <td>215</td>\n",
       "    </tr>\n",
       "    <tr>\n",
       "      <th>2010</th>\n",
       "      <td>230</td>\n",
       "    </tr>\n",
       "  </tbody>\n",
       "</table>\n",
       "</div>"
      ],
      "text/plain": [
       "      talk_id\n",
       "year         \n",
       "2006       49\n",
       "2007      119\n",
       "2008      185\n",
       "2009      215\n",
       "2010      230"
      ]
     },
     "execution_count": 16,
     "metadata": {},
     "output_type": "execute_result"
    }
   ],
   "source": [
    "#let's check if we've had more talks published over the years\n",
    "talks = df[['talk_id','year']].groupby('year').agg({'talk_id':'count'})\n",
    "talks.head()"
   ]
  },
  {
   "cell_type": "code",
   "execution_count": 17,
   "metadata": {},
   "outputs": [
    {
     "data": {
      "text/plain": [
       "<matplotlib.axes._subplots.AxesSubplot at 0x18e48b27588>"
      ]
     },
     "execution_count": 17,
     "metadata": {},
     "output_type": "execute_result"
    },
    {
     "data": {
      "image/png": "[encoded data removed]",
      "text/plain": [
       "<Figure size 432x288 with 1 Axes>"
      ]
     },
     "metadata": {
      "needs_background": "light"
     },
     "output_type": "display_data"
    }
   ],
   "source": [
    "sns.lineplot(data = talks)"
   ]
  },
  {
   "cell_type": "markdown",
   "metadata": {},
   "source": [
    "did we have less talks pubslished in 2020?"
   ]
  },
  {
   "cell_type": "code",
   "execution_count": 18,
   "metadata": {},
   "outputs": [
    {
     "data": {
      "text/plain": [
       "Timestamp('2020-04-30 00:00:00')"
      ]
     },
     "execution_count": 18,
     "metadata": {},
     "output_type": "execute_result"
    }
   ],
   "source": [
    "#not really, we just have some incomplete data\n",
    "df['published_date'].max()"
   ]
  },
  {
   "cell_type": "code",
   "execution_count": 19,
   "metadata": {},
   "outputs": [
    {
     "data": {
      "text/html": [
       "<div>\n",
       "<style scoped>\n",
       "    .dataframe tbody tr th:only-of-type {\n",
       "        vertical-align: middle;\n",
       "    }\n",
       "\n",
       "    .dataframe tbody tr th {\n",
       "        vertical-align: top;\n",
       "    }\n",
       "\n",
       "    .dataframe thead th {\n",
       "        text-align: right;\n",
       "    }\n",
       "</style>\n",
       "<table border=\"1\" class=\"dataframe\">\n",
       "  <thead>\n",
       "    <tr style=\"text-align: right;\">\n",
       "      <th></th>\n",
       "      <th>talk_id</th>\n",
       "    </tr>\n",
       "    <tr>\n",
       "      <th>year_month</th>\n",
       "      <th></th>\n",
       "    </tr>\n",
       "  </thead>\n",
       "  <tbody>\n",
       "    <tr>\n",
       "      <th>2006-06</th>\n",
       "      <td>5</td>\n",
       "    </tr>\n",
       "    <tr>\n",
       "      <th>2006-07</th>\n",
       "      <td>7</td>\n",
       "    </tr>\n",
       "    <tr>\n",
       "      <th>2006-08</th>\n",
       "      <td>10</td>\n",
       "    </tr>\n",
       "    <tr>\n",
       "      <th>2006-09</th>\n",
       "      <td>8</td>\n",
       "    </tr>\n",
       "    <tr>\n",
       "      <th>2006-10</th>\n",
       "      <td>11</td>\n",
       "    </tr>\n",
       "  </tbody>\n",
       "</table>\n",
       "</div>"
      ],
      "text/plain": [
       "            talk_id\n",
       "year_month         \n",
       "2006-06           5\n",
       "2006-07           7\n",
       "2006-08          10\n",
       "2006-09           8\n",
       "2006-10          11"
      ]
     },
     "execution_count": 19,
     "metadata": {},
     "output_type": "execute_result"
    }
   ],
   "source": [
    "#we can algo plot year_month to answer the same question\n",
    "talks2 = df[['talk_id','year_month']].groupby('year_month').agg({'talk_id':'count'})\n",
    "talks2.head()"
   ]
  },
  {
   "cell_type": "code",
   "execution_count": 20,
   "metadata": {},
   "outputs": [
    {
     "data": {
      "text/plain": [
       "Text(0.5, 1.0, 'Published talks x Year_Month')"
      ]
     },
     "execution_count": 20,
     "metadata": {},
     "output_type": "execute_result"
    },
    {
     "data": {
      "image/png": "[encoded data removed]",
      "text/plain": [
       "<Figure size 432x288 with 1 Axes>"
      ]
     },
     "metadata": {
      "needs_background": "light"
     },
     "output_type": "display_data"
    }
   ],
   "source": [
    "talks2.plot().set_title('Published talks x Year_Month')"
   ]
  },
  {
   "cell_type": "code",
   "execution_count": 21,
   "metadata": {},
   "outputs": [
    {
     "data": {
      "text/html": [
       "<div>\n",
       "<style scoped>\n",
       "    .dataframe tbody tr th:only-of-type {\n",
       "        vertical-align: middle;\n",
       "    }\n",
       "\n",
       "    .dataframe tbody tr th {\n",
       "        vertical-align: top;\n",
       "    }\n",
       "\n",
       "    .dataframe thead th {\n",
       "        text-align: right;\n",
       "    }\n",
       "</style>\n",
       "<table border=\"1\" class=\"dataframe\">\n",
       "  <thead>\n",
       "    <tr style=\"text-align: right;\">\n",
       "      <th></th>\n",
       "      <th>views_per_comment</th>\n",
       "      <th>talk_id</th>\n",
       "      <th>views</th>\n",
       "    </tr>\n",
       "    <tr>\n",
       "      <th>speaker_1</th>\n",
       "      <th></th>\n",
       "      <th></th>\n",
       "      <th></th>\n",
       "    </tr>\n",
       "  </thead>\n",
       "  <tbody>\n",
       "    <tr>\n",
       "      <th>David Bismark</th>\n",
       "      <td>727.09</td>\n",
       "      <td>1</td>\n",
       "      <td>609303</td>\n",
       "    </tr>\n",
       "    <tr>\n",
       "      <th>Janet Echelman</th>\n",
       "      <td>908.40</td>\n",
       "      <td>1</td>\n",
       "      <td>2297341</td>\n",
       "    </tr>\n",
       "    <tr>\n",
       "      <th>Michael Specter</th>\n",
       "      <td>917.46</td>\n",
       "      <td>1</td>\n",
       "      <td>2170700</td>\n",
       "    </tr>\n",
       "    <tr>\n",
       "      <th>Mallika Sarabhai</th>\n",
       "      <td>958.16</td>\n",
       "      <td>1</td>\n",
       "      <td>594059</td>\n",
       "    </tr>\n",
       "    <tr>\n",
       "      <th>Elizabeth Lindsey</th>\n",
       "      <td>958.72</td>\n",
       "      <td>1</td>\n",
       "      <td>536881</td>\n",
       "    </tr>\n",
       "    <tr>\n",
       "      <th>David Chalmers</th>\n",
       "      <td>968.34</td>\n",
       "      <td>1</td>\n",
       "      <td>2910843</td>\n",
       "    </tr>\n",
       "    <tr>\n",
       "      <th>Garth Lenz</th>\n",
       "      <td>1,076.92</td>\n",
       "      <td>1</td>\n",
       "      <td>851841</td>\n",
       "    </tr>\n",
       "    <tr>\n",
       "      <th>Tom Honey</th>\n",
       "      <td>1,142.26</td>\n",
       "      <td>1</td>\n",
       "      <td>686498</td>\n",
       "    </tr>\n",
       "    <tr>\n",
       "      <th>David Birch</th>\n",
       "      <td>1,144.73</td>\n",
       "      <td>1</td>\n",
       "      <td>238104</td>\n",
       "    </tr>\n",
       "    <tr>\n",
       "      <th>Naif Al-Mutawa</th>\n",
       "      <td>1,185.18</td>\n",
       "      <td>1</td>\n",
       "      <td>967103</td>\n",
       "    </tr>\n",
       "  </tbody>\n",
       "</table>\n",
       "</div>"
      ],
      "text/plain": [
       "                   views_per_comment  talk_id    views\n",
       "speaker_1                                             \n",
       "David Bismark                 727.09        1   609303\n",
       "Janet Echelman                908.40        1  2297341\n",
       "Michael Specter               917.46        1  2170700\n",
       "Mallika Sarabhai              958.16        1   594059\n",
       "Elizabeth Lindsey             958.72        1   536881\n",
       "David Chalmers                968.34        1  2910843\n",
       "Garth Lenz                  1,076.92        1   851841\n",
       "Tom Honey                   1,142.26        1   686498\n",
       "David Birch                 1,144.73        1   238104\n",
       "Naif Al-Mutawa              1,185.18        1   967103"
      ]
     },
     "execution_count": 21,
     "metadata": {},
     "output_type": "execute_result"
    }
   ],
   "source": [
    "#on average, which speaker provoked the most views per comments?\n",
    "#obtaining the views per comment, quantity of talks they've done and total views\n",
    "p = df.groupby('speaker_1').agg({'views_per_comment':'mean', 'talk_id':'count', 'views':'sum'}).sort_values('views_per_comment')\n",
    "p.head(10)"
   ]
  },
  {
   "cell_type": "code",
   "execution_count": 22,
   "metadata": {},
   "outputs": [
    {
     "data": {
      "text/html": [
       "<div>\n",
       "<style scoped>\n",
       "    .dataframe tbody tr th:only-of-type {\n",
       "        vertical-align: middle;\n",
       "    }\n",
       "\n",
       "    .dataframe tbody tr th {\n",
       "        vertical-align: top;\n",
       "    }\n",
       "\n",
       "    .dataframe thead th {\n",
       "        text-align: right;\n",
       "    }\n",
       "</style>\n",
       "<table border=\"1\" class=\"dataframe\">\n",
       "  <thead>\n",
       "    <tr style=\"text-align: right;\">\n",
       "      <th></th>\n",
       "      <th>views_per_comment</th>\n",
       "      <th>talk_id</th>\n",
       "      <th>views</th>\n",
       "    </tr>\n",
       "    <tr>\n",
       "      <th>speaker_1</th>\n",
       "      <th></th>\n",
       "      <th></th>\n",
       "      <th></th>\n",
       "    </tr>\n",
       "  </thead>\n",
       "  <tbody>\n",
       "    <tr>\n",
       "      <th>Paul Romer</th>\n",
       "      <td>1,518.56</td>\n",
       "      <td>2</td>\n",
       "      <td>1209174</td>\n",
       "    </tr>\n",
       "    <tr>\n",
       "      <th>Lesley Hazleton</th>\n",
       "      <td>2,242.07</td>\n",
       "      <td>2</td>\n",
       "      <td>3947345</td>\n",
       "    </tr>\n",
       "    <tr>\n",
       "      <th>Gordon Brown</th>\n",
       "      <td>2,544.63</td>\n",
       "      <td>2</td>\n",
       "      <td>1646099</td>\n",
       "    </tr>\n",
       "    <tr>\n",
       "      <th>Rory Stewart</th>\n",
       "      <td>3,102.05</td>\n",
       "      <td>2</td>\n",
       "      <td>1746445</td>\n",
       "    </tr>\n",
       "    <tr>\n",
       "      <th>Karen Armstrong</th>\n",
       "      <td>3,324.70</td>\n",
       "      <td>3</td>\n",
       "      <td>2757069</td>\n",
       "    </tr>\n",
       "    <tr>\n",
       "      <th>Lee Cronin</th>\n",
       "      <td>4,029.55</td>\n",
       "      <td>2</td>\n",
       "      <td>1820664</td>\n",
       "    </tr>\n",
       "    <tr>\n",
       "      <th>Richard Dawkins</th>\n",
       "      <td>4,231.31</td>\n",
       "      <td>2</td>\n",
       "      <td>9820678</td>\n",
       "    </tr>\n",
       "    <tr>\n",
       "      <th>Jonathan Haidt</th>\n",
       "      <td>4,335.07</td>\n",
       "      <td>4</td>\n",
       "      <td>7726507</td>\n",
       "    </tr>\n",
       "    <tr>\n",
       "      <th>Geoff Mulgan</th>\n",
       "      <td>4,338.60</td>\n",
       "      <td>2</td>\n",
       "      <td>1128081</td>\n",
       "    </tr>\n",
       "    <tr>\n",
       "      <th>Michael Sandel</th>\n",
       "      <td>4,367.51</td>\n",
       "      <td>2</td>\n",
       "      <td>3496385</td>\n",
       "    </tr>\n",
       "  </tbody>\n",
       "</table>\n",
       "</div>"
      ],
      "text/plain": [
       "                 views_per_comment  talk_id    views\n",
       "speaker_1                                           \n",
       "Paul Romer                1,518.56        2  1209174\n",
       "Lesley Hazleton           2,242.07        2  3947345\n",
       "Gordon Brown              2,544.63        2  1646099\n",
       "Rory Stewart              3,102.05        2  1746445\n",
       "Karen Armstrong           3,324.70        3  2757069\n",
       "Lee Cronin                4,029.55        2  1820664\n",
       "Richard Dawkins           4,231.31        2  9820678\n",
       "Jonathan Haidt            4,335.07        4  7726507\n",
       "Geoff Mulgan              4,338.60        2  1128081\n",
       "Michael Sandel            4,367.51        2  3496385"
      ]
     },
     "execution_count": 22,
     "metadata": {},
     "output_type": "execute_result"
    }
   ],
   "source": [
    "#what about speakers that have more than 1 talk in the data set?\n",
    "p[p['talk_id'] > 1].sort_values('views_per_comment').head(10)"
   ]
  },
  {
   "cell_type": "code",
   "execution_count": 23,
   "metadata": {},
   "outputs": [
    {
     "data": {
      "text/html": [
       "<div>\n",
       "<style scoped>\n",
       "    .dataframe tbody tr th:only-of-type {\n",
       "        vertical-align: middle;\n",
       "    }\n",
       "\n",
       "    .dataframe tbody tr th {\n",
       "        vertical-align: top;\n",
       "    }\n",
       "\n",
       "    .dataframe thead th {\n",
       "        text-align: right;\n",
       "    }\n",
       "</style>\n",
       "<table border=\"1\" class=\"dataframe\">\n",
       "  <thead>\n",
       "    <tr style=\"text-align: right;\">\n",
       "      <th></th>\n",
       "      <th>views_per_comment</th>\n",
       "      <th>talk_id</th>\n",
       "      <th>views</th>\n",
       "    </tr>\n",
       "    <tr>\n",
       "      <th>speaker_1</th>\n",
       "      <th></th>\n",
       "      <th></th>\n",
       "      <th></th>\n",
       "    </tr>\n",
       "  </thead>\n",
       "  <tbody>\n",
       "    <tr>\n",
       "      <th>Stewart Brand</th>\n",
       "      <td>10,046.16</td>\n",
       "      <td>6</td>\n",
       "      <td>7027650</td>\n",
       "    </tr>\n",
       "    <tr>\n",
       "      <th>Hans Rosling</th>\n",
       "      <td>11,981.36</td>\n",
       "      <td>10</td>\n",
       "      <td>39871561</td>\n",
       "    </tr>\n",
       "    <tr>\n",
       "      <th>Alex Rosenthal</th>\n",
       "      <td>13,371.00</td>\n",
       "      <td>10</td>\n",
       "      <td>3343962</td>\n",
       "    </tr>\n",
       "    <tr>\n",
       "      <th>Rives</th>\n",
       "      <td>15,367.34</td>\n",
       "      <td>6</td>\n",
       "      <td>11992110</td>\n",
       "    </tr>\n",
       "    <tr>\n",
       "      <th>Marco Tempest</th>\n",
       "      <td>19,322.08</td>\n",
       "      <td>7</td>\n",
       "      <td>16339961</td>\n",
       "    </tr>\n",
       "    <tr>\n",
       "      <th>Bill Gates</th>\n",
       "      <td>22,991.83</td>\n",
       "      <td>6</td>\n",
       "      <td>57107176</td>\n",
       "    </tr>\n",
       "    <tr>\n",
       "      <th>Juan Enriquez</th>\n",
       "      <td>27,878.55</td>\n",
       "      <td>9</td>\n",
       "      <td>18311605</td>\n",
       "    </tr>\n",
       "    <tr>\n",
       "      <th>Chris Anderson</th>\n",
       "      <td>28,071.20</td>\n",
       "      <td>8</td>\n",
       "      <td>32598679</td>\n",
       "    </tr>\n",
       "    <tr>\n",
       "      <th>Dan Ariely</th>\n",
       "      <td>47,308.38</td>\n",
       "      <td>7</td>\n",
       "      <td>24396081</td>\n",
       "    </tr>\n",
       "    <tr>\n",
       "      <th>Greg Gage</th>\n",
       "      <td>69,917.35</td>\n",
       "      <td>9</td>\n",
       "      <td>18359012</td>\n",
       "    </tr>\n",
       "  </tbody>\n",
       "</table>\n",
       "</div>"
      ],
      "text/plain": [
       "                views_per_comment  talk_id     views\n",
       "speaker_1                                           \n",
       "Stewart Brand           10,046.16        6   7027650\n",
       "Hans Rosling            11,981.36       10  39871561\n",
       "Alex Rosenthal          13,371.00       10   3343962\n",
       " Rives                  15,367.34        6  11992110\n",
       "Marco Tempest           19,322.08        7  16339961\n",
       "Bill Gates              22,991.83        6  57107176\n",
       "Juan Enriquez           27,878.55        9  18311605\n",
       "Chris Anderson          28,071.20        8  32598679\n",
       "Dan Ariely              47,308.38        7  24396081\n",
       "Greg Gage               69,917.35        9  18359012"
      ]
     },
     "execution_count": 23,
     "metadata": {},
     "output_type": "execute_result"
    }
   ],
   "source": [
    "#what about speakers that have more than 5 talks in the data set?\n",
    "p[p['talk_id'] > 5].sort_values('views_per_comment').head(10)"
   ]
  },
  {
   "cell_type": "code",
   "execution_count": 24,
   "metadata": {},
   "outputs": [
    {
     "data": {
      "text/html": [
       "<div>\n",
       "<style scoped>\n",
       "    .dataframe tbody tr th:only-of-type {\n",
       "        vertical-align: middle;\n",
       "    }\n",
       "\n",
       "    .dataframe tbody tr th {\n",
       "        vertical-align: top;\n",
       "    }\n",
       "\n",
       "    .dataframe thead th {\n",
       "        text-align: right;\n",
       "    }\n",
       "</style>\n",
       "<table border=\"1\" class=\"dataframe\">\n",
       "  <thead>\n",
       "    <tr style=\"text-align: right;\">\n",
       "      <th></th>\n",
       "      <th>mean</th>\n",
       "      <th>sum</th>\n",
       "      <th>count</th>\n",
       "    </tr>\n",
       "    <tr>\n",
       "      <th>event</th>\n",
       "      <th></th>\n",
       "      <th></th>\n",
       "      <th></th>\n",
       "    </tr>\n",
       "  </thead>\n",
       "  <tbody>\n",
       "    <tr>\n",
       "      <th>TED-Ed</th>\n",
       "      <td>2,059,996.01</td>\n",
       "      <td>1145357780</td>\n",
       "      <td>556</td>\n",
       "    </tr>\n",
       "    <tr>\n",
       "      <th>TED2015</th>\n",
       "      <td>3,302,706.15</td>\n",
       "      <td>247702961</td>\n",
       "      <td>75</td>\n",
       "    </tr>\n",
       "    <tr>\n",
       "      <th>TED2014</th>\n",
       "      <td>2,860,665.13</td>\n",
       "      <td>240295871</td>\n",
       "      <td>84</td>\n",
       "    </tr>\n",
       "    <tr>\n",
       "      <th>TEDGlobal 2013</th>\n",
       "      <td>3,513,585.58</td>\n",
       "      <td>235410234</td>\n",
       "      <td>67</td>\n",
       "    </tr>\n",
       "    <tr>\n",
       "      <th>TED2017</th>\n",
       "      <td>2,373,413.80</td>\n",
       "      <td>227847725</td>\n",
       "      <td>96</td>\n",
       "    </tr>\n",
       "  </tbody>\n",
       "</table>\n",
       "</div>"
      ],
      "text/plain": [
       "                       mean         sum  count\n",
       "event                                         \n",
       "TED-Ed         2,059,996.01  1145357780    556\n",
       "TED2015        3,302,706.15   247702961     75\n",
       "TED2014        2,860,665.13   240295871     84\n",
       "TEDGlobal 2013 3,513,585.58   235410234     67\n",
       "TED2017        2,373,413.80   227847725     96"
      ]
     },
     "execution_count": 24,
     "metadata": {},
     "output_type": "execute_result"
    }
   ],
   "source": [
    "#which event generated the most views?\n",
    "df.groupby('event')['views'].agg(['mean','sum','count']).sort_values('sum', ascending=False).head(5)"
   ]
  },
  {
   "cell_type": "markdown",
   "metadata": {},
   "source": [
    "if we didn't consider the quantity of events, and only considered the sum of views, we wouldn't be seeing the whole picture"
   ]
  },
  {
   "cell_type": "code",
   "execution_count": 25,
   "metadata": {},
   "outputs": [
    {
     "data": {
      "text/html": [
       "<div>\n",
       "<style scoped>\n",
       "    .dataframe tbody tr th:only-of-type {\n",
       "        vertical-align: middle;\n",
       "    }\n",
       "\n",
       "    .dataframe tbody tr th {\n",
       "        vertical-align: top;\n",
       "    }\n",
       "\n",
       "    .dataframe thead th {\n",
       "        text-align: right;\n",
       "    }\n",
       "</style>\n",
       "<table border=\"1\" class=\"dataframe\">\n",
       "  <thead>\n",
       "    <tr style=\"text-align: right;\">\n",
       "      <th></th>\n",
       "      <th>views</th>\n",
       "      <th>talk_id</th>\n",
       "    </tr>\n",
       "    <tr>\n",
       "      <th>occupations</th>\n",
       "      <th></th>\n",
       "      <th></th>\n",
       "    </tr>\n",
       "  </thead>\n",
       "  <tbody>\n",
       "    <tr>\n",
       "      <th>{0: ['psychiatrist', 'psychoanalyst', 'zen priest']}</th>\n",
       "      <td>32,396,714.00</td>\n",
       "      <td>1</td>\n",
       "    </tr>\n",
       "    <tr>\n",
       "      <th>{0: ['vulnerability researcher']}</th>\n",
       "      <td>30,642,988.50</td>\n",
       "      <td>2</td>\n",
       "    </tr>\n",
       "    <tr>\n",
       "      <th>{0: ['comedian and writer']}</th>\n",
       "      <td>29,889,053.00</td>\n",
       "      <td>3</td>\n",
       "    </tr>\n",
       "    <tr>\n",
       "      <th>{0: ['lie detector']}</th>\n",
       "      <td>28,748,868.00</td>\n",
       "      <td>1</td>\n",
       "    </tr>\n",
       "    <tr>\n",
       "      <th>{0: ['beatboxer']}</th>\n",
       "      <td>28,495,294.00</td>\n",
       "      <td>1</td>\n",
       "    </tr>\n",
       "    <tr>\n",
       "      <th>{0: ['author', 'educator']}</th>\n",
       "      <td>28,126,839.33</td>\n",
       "      <td>3</td>\n",
       "    </tr>\n",
       "    <tr>\n",
       "      <th>{0: ['gentleman thief']}</th>\n",
       "      <td>27,208,963.00</td>\n",
       "      <td>1</td>\n",
       "    </tr>\n",
       "    <tr>\n",
       "      <th>{0: ['neuroanatomist']}</th>\n",
       "      <td>26,553,231.00</td>\n",
       "      <td>1</td>\n",
       "    </tr>\n",
       "    <tr>\n",
       "      <th>{0: ['quiet revolutionary']}</th>\n",
       "      <td>26,039,073.00</td>\n",
       "      <td>1</td>\n",
       "    </tr>\n",
       "    <tr>\n",
       "      <th>{0: ['career analyst']}</th>\n",
       "      <td>25,654,121.00</td>\n",
       "      <td>1</td>\n",
       "    </tr>\n",
       "  </tbody>\n",
       "</table>\n",
       "</div>"
      ],
      "text/plain": [
       "                                                           views  talk_id\n",
       "occupations                                                              \n",
       "{0: ['psychiatrist', 'psychoanalyst', 'zen prie... 32,396,714.00        1\n",
       "{0: ['vulnerability researcher']}                  30,642,988.50        2\n",
       "{0: ['comedian and writer']}                       29,889,053.00        3\n",
       "{0: ['lie detector']}                              28,748,868.00        1\n",
       "{0: ['beatboxer']}                                 28,495,294.00        1\n",
       "{0: ['author', 'educator']}                        28,126,839.33        3\n",
       "{0: ['gentleman thief']}                           27,208,963.00        1\n",
       "{0: ['neuroanatomist']}                            26,553,231.00        1\n",
       "{0: ['quiet revolutionary']}                       26,039,073.00        1\n",
       "{0: ['career analyst']}                            25,654,121.00        1"
      ]
     },
     "execution_count": 25,
     "metadata": {},
     "output_type": "execute_result"
    }
   ],
   "source": [
    "#on average, which occupation generated the most views?\n",
    "o = df.groupby('occupations').agg({'views':'mean','talk_id':'count'}).sort_values('views', ascending=False)\n",
    "o.head(10)"
   ]
  },
  {
   "cell_type": "code",
   "execution_count": 26,
   "metadata": {},
   "outputs": [
    {
     "data": {
      "text/html": [
       "<div>\n",
       "<style scoped>\n",
       "    .dataframe tbody tr th:only-of-type {\n",
       "        vertical-align: middle;\n",
       "    }\n",
       "\n",
       "    .dataframe tbody tr th {\n",
       "        vertical-align: top;\n",
       "    }\n",
       "\n",
       "    .dataframe thead th {\n",
       "        text-align: right;\n",
       "    }\n",
       "</style>\n",
       "<table border=\"1\" class=\"dataframe\">\n",
       "  <thead>\n",
       "    <tr style=\"text-align: right;\">\n",
       "      <th></th>\n",
       "      <th>views</th>\n",
       "      <th>talk_id</th>\n",
       "    </tr>\n",
       "    <tr>\n",
       "      <th>occupations</th>\n",
       "      <th></th>\n",
       "      <th></th>\n",
       "    </tr>\n",
       "  </thead>\n",
       "  <tbody>\n",
       "    <tr>\n",
       "      <th>{0: ['leadership expert']}</th>\n",
       "      <td>14,825,616.80</td>\n",
       "      <td>5</td>\n",
       "    </tr>\n",
       "    <tr>\n",
       "      <th>{0: ['sound consultant']}</th>\n",
       "      <td>10,959,936.20</td>\n",
       "      <td>5</td>\n",
       "    </tr>\n",
       "    <tr>\n",
       "      <th>{0: ['social psychologist']}</th>\n",
       "      <td>7,804,653.00</td>\n",
       "      <td>11</td>\n",
       "    </tr>\n",
       "    <tr>\n",
       "      <th>{0: ['philanthropist']}</th>\n",
       "      <td>6,784,732.88</td>\n",
       "      <td>8</td>\n",
       "    </tr>\n",
       "    <tr>\n",
       "      <th>{0: ['organizational psychologist']}</th>\n",
       "      <td>5,855,316.80</td>\n",
       "      <td>5</td>\n",
       "    </tr>\n",
       "    <tr>\n",
       "      <th>{0: ['head of ted']}</th>\n",
       "      <td>5,007,789.17</td>\n",
       "      <td>6</td>\n",
       "    </tr>\n",
       "    <tr>\n",
       "      <th>{0: ['novelist']}</th>\n",
       "      <td>4,892,828.80</td>\n",
       "      <td>10</td>\n",
       "    </tr>\n",
       "    <tr>\n",
       "      <th>{0: ['activist']}</th>\n",
       "      <td>4,813,569.67</td>\n",
       "      <td>15</td>\n",
       "    </tr>\n",
       "    <tr>\n",
       "      <th>{0: ['psychologist']}</th>\n",
       "      <td>4,351,837.06</td>\n",
       "      <td>31</td>\n",
       "    </tr>\n",
       "    <tr>\n",
       "      <th>{0: ['comedian']}</th>\n",
       "      <td>4,327,606.14</td>\n",
       "      <td>7</td>\n",
       "    </tr>\n",
       "  </tbody>\n",
       "</table>\n",
       "</div>"
      ],
      "text/plain": [
       "                                             views  talk_id\n",
       "occupations                                                \n",
       "{0: ['leadership expert']}           14,825,616.80        5\n",
       "{0: ['sound consultant']}            10,959,936.20        5\n",
       "{0: ['social psychologist']}          7,804,653.00       11\n",
       "{0: ['philanthropist']}               6,784,732.88        8\n",
       "{0: ['organizational psychologist']}  5,855,316.80        5\n",
       "{0: ['head of ted']}                  5,007,789.17        6\n",
       "{0: ['novelist']}                     4,892,828.80       10\n",
       "{0: ['activist']}                     4,813,569.67       15\n",
       "{0: ['psychologist']}                 4,351,837.06       31\n",
       "{0: ['comedian']}                     4,327,606.14        7"
      ]
     },
     "execution_count": 26,
     "metadata": {},
     "output_type": "execute_result"
    }
   ],
   "source": [
    "#let's look at occupations that had at least 5 talks\n",
    "o[o['talk_id'] > 4].head(10)"
   ]
  },
  {
   "cell_type": "markdown",
   "metadata": {},
   "source": [
    "## That will be all for now, thanks (:"
   ]
  }
 ],
 "metadata": {
  "kernelspec": {
   "display_name": "Python 3",
   "language": "python",
   "name": "python3"
  },
  "language_info": {
   "codemirror_mode": {
    "name": "ipython",
    "version": 3
   },
   "file_extension": ".py",
   "mimetype": "text/x-python",
   "name": "python",
   "nbconvert_exporter": "python",
   "pygments_lexer": "ipython3",
   "version": "3.7.6"
  }
 },
 "nbformat": 4,
 "nbformat_minor": 4
}
